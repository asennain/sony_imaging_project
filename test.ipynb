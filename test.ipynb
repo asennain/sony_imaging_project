{
 "cells": [
  {
   "cell_type": "code",
   "execution_count": 1,
   "metadata": {},
   "outputs": [
    {
     "name": "stdout",
     "output_type": "stream",
     "text": [
      "None\n",
      "0.3069\n",
      "28.0293\n",
      "7.4761\n",
      "28.0841\n",
      "28.0841\n",
      "0.3069\n",
      "28.2463\n",
      "0.002\n",
      "0.0\n"
     ]
    },
    {
     "ename": "",
     "evalue": "",
     "output_type": "error",
     "traceback": [
      "\u001b[1;31mCanceled future for execute_request message before replies were done"
     ]
    },
    {
     "ename": "",
     "evalue": "",
     "output_type": "error",
     "traceback": [
      "\u001b[1;31mThe Kernel crashed while executing code in the the current cell or a previous cell. Please review the code in the cell(s) to identify a possible cause of the failure. Click <a href='https://aka.ms/vscodeJupyterKernelCrash'>here</a> for more info. View Jupyter <a href='command:jupyter.viewOutput'>log</a> for further details."
     ]
    }
   ],
   "source": [
    "from libsonyapi.camera import Camera\n",
    "from libsonyapi.actions import Actions\n",
    "import time \n",
    "from time import sleep\n",
    "import cv2 \n",
    "import matplotlib as plt\n",
    "import pyfirmata\n",
    "from pyfirmata import util\n",
    "\n",
    "board = pyfirmata.Arduino('COM7')\n",
    "voltage_read_pin = 0\n",
    "# Voltage reading pin\n",
    "board.analog[voltage_read_pin].mode = pyfirmata.INPUT\n",
    "\n",
    "while True:\n",
    "    time.sleep(.3)\n",
    "    it = util.Iterator(board)\n",
    "    it.start()\n",
    "    board.analog[voltage_read_pin].enable_reporting()\n",
    "    print(board.analog[voltage_read_pin].read())\n"
   ]
  }
 ],
 "metadata": {
  "kernelspec": {
   "display_name": ".venv.sony_imaging_project",
   "language": "python",
   "name": "python3"
  },
  "language_info": {
   "codemirror_mode": {
    "name": "ipython",
    "version": 3
   },
   "file_extension": ".py",
   "mimetype": "text/x-python",
   "name": "python",
   "nbconvert_exporter": "python",
   "pygments_lexer": "ipython3",
   "version": "3.7.9"
  },
  "orig_nbformat": 4
 },
 "nbformat": 4,
 "nbformat_minor": 2
}
